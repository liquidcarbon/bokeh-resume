{
 "cells": [
  {
   "cell_type": "code",
   "execution_count": 1,
   "metadata": {},
   "outputs": [],
   "source": [
    "from IPython.display import SVG, display"
   ]
  },
  {
   "cell_type": "code",
   "execution_count": 2,
   "metadata": {},
   "outputs": [
    {
     "data": {
      "image/svg+xml": [
       "<svg width=\"200\" height=\"250\">\n",
       "\n",
       "  <path d=\"M 100 16 L 172.75 58 L 172.75 142 L 100 184 L 27.25 142 L 27.25 58 Z\" fill=\"transparent\" stroke=\"black\" stroke-width=\"4\"/>\n",
       "\n",
       "  <path d=\"M 100 30 L 160.62 65\" fill=\"transparent\" stroke=\"black\" stroke-width=\"4\" stroke-linecap=\"round\">\n",
       "    <animate attributeName=\"stroke-opacity\" values=\"1;0;1\" dur=\"5s\" repeatCount=\"indefinite\"/>\n",
       "  </path>\n",
       "  \n",
       "  <path d=\"M 160.62 65 L 160.62 135\" fill=\"transparent\" stroke=\"black\" stroke-width=\"4\" stroke-linecap=\"round\">\n",
       "    <animate attributeName=\"stroke-opacity\" values=\"0;1;0\" dur=\"5s\" repeatCount=\"indefinite\"/>\n",
       "  </path>\n",
       "\n",
       "  <path d=\"M 160.62 135 L 100 170\" fill=\"transparent\" stroke=\"black\" stroke-width=\"4\" stroke-linecap=\"round\">\n",
       "    <animate attributeName=\"stroke-opacity\" values=\"1;0;1\" dur=\"5s\" repeatCount=\"indefinite\"/>\n",
       "  </path>\n",
       "  \n",
       "  <path d=\"M 100 170 L 39.38 135\" fill=\"transparent\" stroke=\"black\" stroke-width=\"4\" stroke-linecap=\"round\">\n",
       "    <animate attributeName=\"stroke-opacity\" values=\"0;1;0\" dur=\"5s\" repeatCount=\"indefinite\"/>\n",
       "  </path>\n",
       "\n",
       "  <path d=\"M 39.38 135 L 39.38 65\" fill=\"transparent\" stroke=\"black\" stroke-width=\"4\" stroke-linecap=\"round\">\n",
       "    <animate attributeName=\"stroke-opacity\" values=\"1;0;1\" dur=\"5s\" repeatCount=\"indefinite\"/>\n",
       "  </path>\n",
       "\n",
       "  <path d=\"M 39.38 65 L 100 30\" fill=\"transparent\" stroke=\"black\" stroke-width=\"4\" stroke-linecap=\"round\">\n",
       "    <animate attributeName=\"stroke-opacity\" values=\"0;1;0\" dur=\"5s\" repeatCount=\"indefinite\"/>\n",
       "  </path>\n",
       "  \n",
       "  <text x=\"100\" y=\"220\" font-family=\"Verdana\" font-size=\"2em\" text-anchor=\"middle\">\n",
       "    benzene\n",
       "  </text>\n",
       "</svg>"
      ],
      "text/plain": [
       "<IPython.core.display.SVG object>"
      ]
     },
     "metadata": {},
     "output_type": "display_data"
    }
   ],
   "source": [
    "dur=5\n",
    "svg = f'''\n",
    "<svg width=\"200\" height=\"250\" version=\"1.1\" xmlns=\"http://www.w3.org/2000/svg\">\n",
    "\n",
    "  <path d=\"M 100 16 L 172.75 58 L 172.75 142 L 100 184 L 27.25 142 L 27.25 58 Z\"\n",
    "    fill=\"transparent\" stroke=\"black\" stroke-width=\"4\" />\n",
    "\n",
    "  <path d=\"M 100 30 L 160.62 65\"\n",
    "    fill=\"transparent\" stroke=\"black\" stroke-width=\"4\" stroke-linecap=\"round\">\n",
    "    <animate attributeName=\"stroke-opacity\" values=\"1;0;1\" dur=\"{dur}s\" repeatCount=\"indefinite\" />\n",
    "  </path>\n",
    "  \n",
    "  <path d=\"M 160.62 65 L 160.62 135\"\n",
    "    fill=\"transparent\" stroke=\"black\" stroke-width=\"4\" stroke-linecap=\"round\">\n",
    "    <animate attributeName=\"stroke-opacity\" values=\"0;1;0\" dur=\"{dur}s\" repeatCount=\"indefinite\" />\n",
    "  </path>\n",
    "\n",
    "  <path d=\"M 160.62 135 L 100 170\"\n",
    "    fill=\"transparent\" stroke=\"black\" stroke-width=\"4\" stroke-linecap=\"round\">\n",
    "    <animate attributeName=\"stroke-opacity\" values=\"1;0;1\" dur=\"{dur}s\" repeatCount=\"indefinite\" />\n",
    "  </path>\n",
    "  \n",
    "  <path d=\"M 100 170 L 39.38 135\"\n",
    "    fill=\"transparent\" stroke=\"black\" stroke-width=\"4\" stroke-linecap=\"round\">\n",
    "    <animate attributeName=\"stroke-opacity\" values=\"0;1;0\" dur=\"{dur}s\" repeatCount=\"indefinite\" />\n",
    "  </path>\n",
    "\n",
    "  <path d=\"M 39.38 135 L 39.38 65\"\n",
    "    fill=\"transparent\" stroke=\"black\" stroke-width=\"4\" stroke-linecap=\"round\">\n",
    "    <animate attributeName=\"stroke-opacity\" values=\"1;0;1\" dur=\"{dur}s\" repeatCount=\"indefinite\" />\n",
    "  </path>\n",
    "\n",
    "  <path d=\"M 39.38 65 L 100 30\"\n",
    "    fill=\"transparent\" stroke=\"black\" stroke-width=\"4\" stroke-linecap=\"round\">\n",
    "    <animate attributeName=\"stroke-opacity\" values=\"0;1;0\" dur=\"{dur}s\" repeatCount=\"indefinite\" />\n",
    "  </path>\n",
    "  \n",
    "  <text x=\"100\" y=\"220\" font-family=\"Verdana\" font-size=\"2em\" text-anchor=\"middle\">\n",
    "    benzene\n",
    "  </text>\n",
    "</svg>\n",
    "'''\n",
    "\n",
    "display(SVG(svg))"
   ]
  },
  {
   "cell_type": "code",
   "execution_count": 3,
   "metadata": {},
   "outputs": [
    {
     "data": {
      "image/svg+xml": [
       "<svg xmlns=\"http://www.w3.org/2000/svg\" width=\"200\" height=\"250\" version=\"1.1\">\n",
       "\n",
       "  <rect x=\"10\" y=\"10\" width=\"30\" height=\"30\" stroke=\"black\" fill=\"transparent\" stroke-width=\"5\"/>\n",
       "  <rect x=\"60\" y=\"10\" rx=\"10\" ry=\"10\" width=\"30\" height=\"30\" stroke=\"black\" fill=\"transparent\" stroke-width=\"5\"/>\n",
       "\n",
       "  <polyline points=\"60 110 65 120 70 115 75 130 80 125 85 140 90 135 95 150 100 145\" stroke=\"orange\" fill=\"transparent\" stroke-width=\"5\"/>\n",
       "\n",
       "  <polygon points=\"50 160 55 180 70 180 60 190 65 205 50 195 35 205 40 190 30 180 45 180\" stroke=\"green\" fill=\"transparent\" stroke-width=\"6\">\n",
       "      <animate attributeName=\"stroke-width\" values=\"6;0;6\" dur=\"2s\" repeatCount=\"indefinite\"/>  \n",
       "  </polygon>\n",
       "\n",
       "  <path d=\"M20,230 Q40,205 50,230 T90,230\" fill=\"none\" stroke=\"blue\" stroke-width=\"5\"/>\n",
       "\n",
       "  <rect x=\"80\" y=\"50\" width=\"80\" height=\"120\" fill=\"olive\" stroke=\"brown\">\n",
       "    <animate attributeName=\"rx\" values=\"0;50;0\" dur=\"2s\" repeatCount=\"indefinite\" begin=\"mouseover\" end=\"mouseout\"/>\n",
       "    <animate attributeName=\"fill\" values=\"red;blue;red\" dur=\"2s\" repeatCount=\"1\" begin=\"mouseover\" end=\"mouseout\"/>\n",
       "  </rect>\n",
       "\n",
       "</svg>"
      ],
      "text/plain": [
       "<IPython.core.display.SVG object>"
      ]
     },
     "metadata": {},
     "output_type": "display_data"
    }
   ],
   "source": [
    "svg = '''\n",
    "<svg width=\"200\" height=\"250\" version=\"1.1\" xmlns=\"http://www.w3.org/2000/svg\">\n",
    "\n",
    "  <rect x=\"10\" y=\"10\" width=\"30\" height=\"30\" stroke=\"black\" fill=\"transparent\" stroke-width=\"5\"/>\n",
    "  <rect x=\"60\" y=\"10\" rx=\"10\" ry=\"10\" width=\"30\" height=\"30\" stroke=\"black\" fill=\"transparent\" stroke-width=\"5\"/>\n",
    "\n",
    "  <polyline points=\"60 110 65 120 70 115 75 130 80 125 85 140 90 135 95 150 100 145\"\n",
    "      stroke=\"orange\" fill=\"transparent\" stroke-width=\"5\"/>\n",
    "\n",
    "  <polygon points=\"50 160 55 180 70 180 60 190 65 205 50 195 35 205 40 190 30 180 45 180\"\n",
    "      stroke=\"green\" fill=\"transparent\" stroke-width=\"6\">\n",
    "      <animate attributeName=\"stroke-width\" values=\"6;0;6\" dur=\"2s\" repeatCount=\"indefinite\" />  \n",
    "  </polygon>\n",
    "\n",
    "  <path d=\"M20,230 Q40,205 50,230 T90,230\" fill=\"none\" stroke=\"blue\" stroke-width=\"5\"/>\n",
    "\n",
    "  <rect x=\"80\" y=\"50\" width=\"80\" height=\"120\" fill=\"olive\" stroke=\"brown\">\n",
    "    <animate attributeName=\"rx\" values=\"0;50;0\" dur=\"2s\" repeatCount=\"indefinite\"\n",
    "        begin=\"mouseover\" end=\"mouseout\"/>\n",
    "    <animate attributeName=\"fill\" values=\"red;blue;red\" dur=\"2s\" repeatCount=\"1\"\n",
    "        begin=\"mouseover\" end=\"mouseout\" />\n",
    "  </rect>\n",
    "\n",
    "</svg>\n",
    "'''\n",
    "\n",
    "display(SVG(svg))"
   ]
  }
 ],
 "metadata": {
  "kernelspec": {
   "display_name": "Python 3",
   "language": "python",
   "name": "python3"
  },
  "language_info": {
   "codemirror_mode": {
    "name": "ipython",
    "version": 3
   },
   "file_extension": ".py",
   "mimetype": "text/x-python",
   "name": "python",
   "nbconvert_exporter": "python",
   "pygments_lexer": "ipython3",
   "version": "3.8.3"
  }
 },
 "nbformat": 4,
 "nbformat_minor": 4
}
