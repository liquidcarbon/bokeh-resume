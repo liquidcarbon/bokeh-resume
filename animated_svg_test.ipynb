{
 "cells": [
  {
   "cell_type": "code",
   "execution_count": 1,
   "metadata": {},
   "outputs": [],
   "source": [
    "from IPython.display import SVG, display"
   ]
  },
  {
   "cell_type": "code",
   "execution_count": 2,
   "metadata": {},
   "outputs": [
    {
     "data": {
      "image/svg+xml": [
       "<svg xmlns=\"http://www.w3.org/2000/svg\" width=\"200\" height=\"250\" version=\"1.1\">\n",
       "\n",
       "  <rect x=\"10\" y=\"10\" width=\"30\" height=\"30\" stroke=\"black\" fill=\"transparent\" stroke-width=\"5\"/>\n",
       "  <rect x=\"60\" y=\"10\" rx=\"10\" ry=\"10\" width=\"30\" height=\"30\" stroke=\"black\" fill=\"transparent\" stroke-width=\"5\"/>\n",
       "\n",
       "  <polyline points=\"60 110 65 120 70 115 75 130 80 125 85 140 90 135 95 150 100 145\" stroke=\"orange\" fill=\"transparent\" stroke-width=\"5\"/>\n",
       "\n",
       "  <polygon points=\"50 160 55 180 70 180 60 190 65 205 50 195 35 205 40 190 30 180 45 180\" stroke=\"green\" fill=\"transparent\" stroke-width=\"6\">\n",
       "      <animate attributeName=\"stroke-width\" values=\"6;0;6\" dur=\"2s\" repeatCount=\"indefinite\"/>  \n",
       "  </polygon>\n",
       "\n",
       "  <path d=\"M20,230 Q40,205 50,230 T90,230\" fill=\"none\" stroke=\"blue\" stroke-width=\"5\"/>\n",
       "\n",
       "  <rect x=\"80\" y=\"50\" width=\"80\" height=\"120\" fill=\"purple\" stroke=\"brown\">\n",
       "    <animate attributeName=\"rx\" values=\"0;50;0\" dur=\"2s\" repeatCount=\"indefinite\" begin=\"mouseover\" end=\"mouseout\"/>\n",
       "    <animate attributeName=\"fill\" values=\"red;blue;red\" dur=\"2s\" repeatCount=\"indefinite\" begin=\"mouseover\" end=\"mouseout\"/>\n",
       "  </rect>\n",
       "\n",
       "</svg>"
      ],
      "text/plain": [
       "<IPython.core.display.SVG object>"
      ]
     },
     "metadata": {},
     "output_type": "display_data"
    }
   ],
   "source": [
    "svg = '''\n",
    "<svg width=\"200\" height=\"250\" version=\"1.1\" xmlns=\"http://www.w3.org/2000/svg\">\n",
    "\n",
    "  <rect x=\"10\" y=\"10\" width=\"30\" height=\"30\" stroke=\"black\" fill=\"transparent\" stroke-width=\"5\"/>\n",
    "  <rect x=\"60\" y=\"10\" rx=\"10\" ry=\"10\" width=\"30\" height=\"30\" stroke=\"black\" fill=\"transparent\" stroke-width=\"5\"/>\n",
    "\n",
    "  <polyline points=\"60 110 65 120 70 115 75 130 80 125 85 140 90 135 95 150 100 145\"\n",
    "      stroke=\"orange\" fill=\"transparent\" stroke-width=\"5\"/>\n",
    "\n",
    "  <polygon points=\"50 160 55 180 70 180 60 190 65 205 50 195 35 205 40 190 30 180 45 180\"\n",
    "      stroke=\"green\" fill=\"transparent\" stroke-width=\"6\">\n",
    "      <animate attributeName=\"stroke-width\" values=\"6;0;6\" dur=\"2s\" repeatCount=\"indefinite\" />  \n",
    "  </polygon>\n",
    "\n",
    "  <path d=\"M20,230 Q40,205 50,230 T90,230\" fill=\"none\" stroke=\"blue\" stroke-width=\"5\"/>\n",
    "\n",
    "  <rect x=\"80\" y=\"50\" width=\"80\" height=\"120\" fill=\"purple\" stroke=\"brown\">\n",
    "    <animate attributeName=\"rx\" values=\"0;50;0\" dur=\"2s\" repeatCount=\"indefinite\"\n",
    "        begin=\"mouseover\" end=\"mouseout\"/>\n",
    "    <animate attributeName=\"fill\" values=\"red;blue;red\" dur=\"2s\" repeatCount=\"indefinite\"\n",
    "        begin=\"mouseover\" end=\"mouseout\" />\n",
    "  </rect>\n",
    "\n",
    "</svg>\n",
    "'''\n",
    "\n",
    "display(SVG(svg))"
   ]
  },
  {
   "cell_type": "code",
   "execution_count": null,
   "metadata": {},
   "outputs": [],
   "source": []
  }
 ],
 "metadata": {
  "kernelspec": {
   "display_name": "Python 3",
   "language": "python",
   "name": "python3"
  },
  "language_info": {
   "codemirror_mode": {
    "name": "ipython",
    "version": 3
   },
   "file_extension": ".py",
   "mimetype": "text/x-python",
   "name": "python",
   "nbconvert_exporter": "python",
   "pygments_lexer": "ipython3",
   "version": "3.8.3"
  }
 },
 "nbformat": 4,
 "nbformat_minor": 4
}
